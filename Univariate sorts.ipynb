{
 "cells": [
  {
   "cell_type": "code",
   "execution_count": null,
   "metadata": {
    "vscode": {
     "languageId": "r"
    }
   },
   "outputs": [],
   "source": []
  },
  {
   "cell_type": "code",
   "execution_count": 1,
   "metadata": {
    "vscode": {
     "languageId": "r"
    }
   },
   "outputs": [
    {
     "name": "stderr",
     "output_type": "stream",
     "text": [
      "Warning message:\n",
      "\"package 'tidyverse' was built under R version 4.2.2\"\n",
      "── \u001b[1mAttaching packages\u001b[22m ─────────────────────────────────────── tidyverse 1.3.2 ──\n",
      "\u001b[32m✔\u001b[39m \u001b[34mggplot2\u001b[39m 3.4.1      \u001b[32m✔\u001b[39m \u001b[34mpurrr  \u001b[39m 1.0.1 \n",
      "\u001b[32m✔\u001b[39m \u001b[34mtibble \u001b[39m 3.1.8      \u001b[32m✔\u001b[39m \u001b[34mdplyr  \u001b[39m 1.0.10\n",
      "\u001b[32m✔\u001b[39m \u001b[34mtidyr  \u001b[39m 1.2.1      \u001b[32m✔\u001b[39m \u001b[34mstringr\u001b[39m 1.5.0 \n",
      "\u001b[32m✔\u001b[39m \u001b[34mreadr  \u001b[39m 2.1.3      \u001b[32m✔\u001b[39m \u001b[34mforcats\u001b[39m 1.0.0 \n",
      "Warning message:\n",
      "\"package 'ggplot2' was built under R version 4.2.2\"\n",
      "Warning message:\n",
      "\"package 'readr' was built under R version 4.2.2\"\n",
      "Warning message:\n",
      "\"package 'purrr' was built under R version 4.2.2\"\n",
      "Warning message:\n",
      "\"package 'stringr' was built under R version 4.2.2\"\n",
      "Warning message:\n",
      "\"package 'forcats' was built under R version 4.2.2\"\n",
      "── \u001b[1mConflicts\u001b[22m ────────────────────────────────────────── tidyverse_conflicts() ──\n",
      "\u001b[31m✖\u001b[39m \u001b[34mdplyr\u001b[39m::\u001b[32mfilter()\u001b[39m masks \u001b[34mstats\u001b[39m::filter()\n",
      "\u001b[31m✖\u001b[39m \u001b[34mdplyr\u001b[39m::\u001b[32mlag()\u001b[39m    masks \u001b[34mstats\u001b[39m::lag()\n",
      "Warning message:\n",
      "\"package 'RSQLite' was built under R version 4.2.2\"\n",
      "\n",
      "Attaching package: 'lubridate'\n",
      "\n",
      "\n",
      "The following objects are masked from 'package:base':\n",
      "\n",
      "    date, intersect, setdiff, union\n",
      "\n",
      "\n",
      "\n",
      "Attaching package: 'scales'\n",
      "\n",
      "\n",
      "The following object is masked from 'package:purrr':\n",
      "\n",
      "    discard\n",
      "\n",
      "\n",
      "The following object is masked from 'package:readr':\n",
      "\n",
      "    col_factor\n",
      "\n",
      "\n",
      "Warning message:\n",
      "\"package 'lmtest' was built under R version 4.2.2\"\n",
      "Loading required package: zoo\n",
      "\n",
      "Warning message:\n",
      "\"package 'zoo' was built under R version 4.2.2\"\n",
      "\n",
      "Attaching package: 'zoo'\n",
      "\n",
      "\n",
      "The following objects are masked from 'package:base':\n",
      "\n",
      "    as.Date, as.Date.numeric\n",
      "\n",
      "\n",
      "Warning message:\n",
      "\"package 'sandwich' was built under R version 4.2.2\"\n"
     ]
    }
   ],
   "source": [
    "library(tidyverse)\n",
    "library(RSQLite)\n",
    "library(lubridate)\n",
    "library(scales)\n",
    "library(lmtest)\n",
    "library(sandwich)"
   ]
  },
  {
   "cell_type": "code",
   "execution_count": 2,
   "metadata": {
    "vscode": {
     "languageId": "r"
    }
   },
   "outputs": [],
   "source": [
    "tidy_finance <- dbConnect(\n",
    "  SQLite(),\n",
    "  \"data/tidy_finance.sqlite\",\n",
    "  extended_types = TRUE\n",
    ")\n",
    "\n",
    "crsp_monthly <- tbl(tidy_finance, \"crsp_monthly\") |>\n",
    "  select(permno, month, ret_excess, mktcap_lag) |>\n",
    "  collect()\n",
    "\n",
    "factors_ff_monthly <- tbl(tidy_finance, \"factors_ff_monthly\") |>\n",
    "  collect()\n",
    "\n",
    "beta <- tbl(tidy_finance, \"beta\") |>\n",
    "  collect()"
   ]
  },
  {
   "cell_type": "code",
   "execution_count": 6,
   "metadata": {
    "vscode": {
     "languageId": "r"
    }
   },
   "outputs": [],
   "source": [
    "beta_lag <- beta |>\n",
    "  mutate(month = month %m+% months(1)) |>\n",
    "  select(permno, month, beta_lag = beta_monthly) |>\n",
    "  drop_na()\n",
    "\n",
    "data_for_sorts <- crsp_monthly |>\n",
    "  inner_join(beta_lag, by = c(\"permno\", \"month\"))"
   ]
  },
  {
   "cell_type": "code",
   "execution_count": 7,
   "metadata": {
    "vscode": {
     "languageId": "r"
    }
   },
   "outputs": [],
   "source": [
    "beta_portfolios <- data_for_sorts |>\n",
    "  group_by(month) |>\n",
    "  mutate(\n",
    "    breakpoint = median(beta_lag),\n",
    "    portfolio = case_when(\n",
    "      beta_lag <= breakpoint ~ \"low\",\n",
    "      beta_lag > breakpoint ~ \"high\"\n",
    "    )\n",
    "  ) |>\n",
    "  group_by(month, portfolio) |>\n",
    "  summarize(ret = weighted.mean(ret_excess, mktcap_lag), breakpoint,beta_lag, .groups = \"drop\")"
   ]
  },
  {
   "cell_type": "code",
   "execution_count": 8,
   "metadata": {
    "vscode": {
     "languageId": "r"
    }
   },
   "outputs": [
    {
     "data": {
      "text/html": [
       "<table class=\"dataframe\">\n",
       "<caption>A tibble: 1 × 5</caption>\n",
       "<thead>\n",
       "\t<tr><th scope=col>month</th><th scope=col>portfolio</th><th scope=col>ret</th><th scope=col>breakpoint</th><th scope=col>beta_lag</th></tr>\n",
       "\t<tr><th scope=col>&lt;date&gt;</th><th scope=col>&lt;chr&gt;</th><th scope=col>&lt;dbl&gt;</th><th scope=col>&lt;dbl&gt;</th><th scope=col>&lt;dbl&gt;</th></tr>\n",
       "</thead>\n",
       "<tbody>\n",
       "\t<tr><td>2018-04-01</td><td>low</td><td>0.002658321</td><td>1.013563</td><td>-13.02217</td></tr>\n",
       "</tbody>\n",
       "</table>\n"
      ],
      "text/latex": [
       "A tibble: 1 × 5\n",
       "\\begin{tabular}{lllll}\n",
       " month & portfolio & ret & breakpoint & beta\\_lag\\\\\n",
       " <date> & <chr> & <dbl> & <dbl> & <dbl>\\\\\n",
       "\\hline\n",
       "\t 2018-04-01 & low & 0.002658321 & 1.013563 & -13.02217\\\\\n",
       "\\end{tabular}\n"
      ],
      "text/markdown": [
       "\n",
       "A tibble: 1 × 5\n",
       "\n",
       "| month &lt;date&gt; | portfolio &lt;chr&gt; | ret &lt;dbl&gt; | breakpoint &lt;dbl&gt; | beta_lag &lt;dbl&gt; |\n",
       "|---|---|---|---|---|\n",
       "| 2018-04-01 | low | 0.002658321 | 1.013563 | -13.02217 |\n",
       "\n"
      ],
      "text/plain": [
       "  month      portfolio ret         breakpoint beta_lag \n",
       "1 2018-04-01 low       0.002658321 1.013563   -13.02217"
      ]
     },
     "metadata": {},
     "output_type": "display_data"
    }
   ],
   "source": [
    "beta_portfolios |>\n",
    "    filter(beta_lag == min(beta_lag)) "
   ]
  },
  {
   "cell_type": "code",
   "execution_count": 15,
   "metadata": {
    "vscode": {
     "languageId": "r"
    }
   },
   "outputs": [],
   "source": [
    "assign_portfolio <- function(data, var, n_portfolios) {\n",
    "  breakpoints <- data |>\n",
    "    summarize(breakpoint = quantile({{ var }},\n",
    "      probs = seq(0, 1, length.out = n_portfolios + 1),\n",
    "      na.rm = TRUE\n",
    "    )) |>\n",
    "    pull(breakpoint) |>\n",
    "    as.numeric()\n",
    "\n",
    "  assigned_portfolios <- data |>\n",
    "    mutate(portfolio = findInterval({{ var }},\n",
    "      breakpoints,\n",
    "      all.inside = TRUE\n",
    "    )) |>\n",
    "    pull(portfolio)\n",
    "\n",
    "  return(assigned_portfolios)\n",
    "}"
   ]
  },
  {
   "cell_type": "code",
   "execution_count": 16,
   "metadata": {
    "vscode": {
     "languageId": "r"
    }
   },
   "outputs": [],
   "source": [
    "beta_portfolios <- data_for_sorts |>\n",
    "  group_by(month) |>\n",
    "  mutate(\n",
    "    portfolio = assign_portfolio(\n",
    "      data = cur_data(),\n",
    "      var = beta_lag,\n",
    "      n_portfolios = 10\n",
    "    ),\n",
    "    portfolio = as.factor(portfolio)\n",
    "  ) |>\n",
    "  group_by(portfolio, month) |>\n",
    "  summarize(\n",
    "    ret = weighted.mean(ret_excess, mktcap_lag),\n",
    "    .groups = \"drop\"\n",
    "  )"
   ]
  },
  {
   "cell_type": "code",
   "execution_count": 17,
   "metadata": {
    "vscode": {
     "languageId": "r"
    }
   },
   "outputs": [],
   "source": [
    "beta_portfolios_summary <- beta_portfolios |>\n",
    "  left_join(factors_ff_monthly, by = \"month\") |>\n",
    "  group_by(portfolio) |>\n",
    "  summarize(\n",
    "    alpha = as.numeric(lm(ret ~ 1 + mkt_excess)$coefficients[1]),\n",
    "    beta = as.numeric(lm(ret ~ 1 + mkt_excess)$coefficients[2]),\n",
    "    ret = mean(ret)\n",
    "  )"
   ]
  },
  {
   "cell_type": "code",
   "execution_count": 18,
   "metadata": {
    "vscode": {
     "languageId": "r"
    }
   },
   "outputs": [
    {
     "data": {
      "image/png": "[encoded data removed]",
      "text/plain": [
       "plot without title"
      ]
     },
     "metadata": {
      "image/png": {
       "height": 420,
       "width": 420
      }
     },
     "output_type": "display_data"
    }
   ],
   "source": [
    "beta_portfolios_summary |>\n",
    "  ggplot(aes(x = portfolio, y = alpha, fill = portfolio)) +\n",
    "  geom_bar(stat = \"identity\") +\n",
    "  labs(\n",
    "    title = \"CAPM alphas of beta-sorted portfolios\",\n",
    "    x = \"Portfolio\",\n",
    "    y = \"CAPM alpha\",\n",
    "    fill = \"Portfolio\"\n",
    "  ) +\n",
    "  scale_y_continuous(labels = percent) +\n",
    "  theme(legend.position = \"None\")"
   ]
  },
  {
   "cell_type": "code",
   "execution_count": 19,
   "metadata": {
    "vscode": {
     "languageId": "r"
    }
   },
   "outputs": [
    {
     "data": {
      "image/png": "[encoded data removed]",
      "text/plain": [
       "plot without title"
      ]
     },
     "metadata": {
      "image/png": {
       "height": 420,
       "width": 420
      }
     },
     "output_type": "display_data"
    }
   ],
   "source": [
    "sml_capm <- lm(ret ~ 1 + beta, data = beta_portfolios_summary)$coefficients\n",
    "\n",
    "beta_portfolios_summary |>\n",
    "  ggplot(aes(\n",
    "    x = beta, \n",
    "    y = ret, \n",
    "    color = portfolio\n",
    "  )) +\n",
    "  geom_point() +\n",
    "  geom_abline(\n",
    "    intercept = 0,\n",
    "    slope = mean(factors_ff_monthly$mkt_excess),\n",
    "    linetype = \"solid\"\n",
    "  ) +\n",
    "  geom_abline(\n",
    "    intercept = sml_capm[1],\n",
    "    slope = sml_capm[2],\n",
    "    linetype = \"dashed\"\n",
    "  ) +\n",
    "  scale_y_continuous(\n",
    "    labels = percent,\n",
    "    limit = c(0, mean(factors_ff_monthly$mkt_excess) * 2)\n",
    "  ) +\n",
    "  scale_x_continuous(limits = c(0, 2)) +\n",
    "  labs(\n",
    "    x = \"Beta\", y = \"Excess return\", color = \"Portfolio\",\n",
    "    title = \"Average portfolio excess returns and average beta estimates\"\n",
    "  )"
   ]
  },
  {
   "cell_type": "code",
   "execution_count": 20,
   "metadata": {
    "vscode": {
     "languageId": "r"
    }
   },
   "outputs": [],
   "source": [
    "beta_longshort <- beta_portfolios |>\n",
    "  ungroup() |>\n",
    "  mutate(portfolio = case_when(\n",
    "    portfolio == max(as.numeric(portfolio)) ~ \"high\",\n",
    "    portfolio == min(as.numeric(portfolio)) ~ \"low\"\n",
    "  )) |>\n",
    "  filter(portfolio %in% c(\"low\", \"high\")) |>\n",
    "  pivot_wider(month, names_from = portfolio, values_from = ret) |>\n",
    "  mutate(long_short = high - low) |>\n",
    "  left_join(factors_ff_monthly, by = \"month\")"
   ]
  },
  {
   "cell_type": "code",
   "execution_count": 21,
   "metadata": {
    "vscode": {
     "languageId": "r"
    }
   },
   "outputs": [
    {
     "data": {
      "text/plain": [
       "\n",
       "t test of coefficients:\n",
       "\n",
       "              Estimate Std. Error t value Pr(>|t|)    \n",
       "(Intercept) -0.0044585  0.0025579 -1.7431  0.08177 .  \n",
       "mkt_excess   1.1656235  0.0956228 12.1898  < 2e-16 ***\n",
       "---\n",
       "Signif. codes:  0 '***' 0.001 '**' 0.01 '*' 0.05 '.' 0.1 ' ' 1\n"
      ]
     },
     "metadata": {},
     "output_type": "display_data"
    }
   ],
   "source": [
    "coeftest(lm(long_short ~ 1 + mkt_excess, data = beta_longshort),\n",
    "  vcov = NeweyWest\n",
    ")"
   ]
  },
  {
   "cell_type": "code",
   "execution_count": 24,
   "metadata": {
    "vscode": {
     "languageId": "r"
    }
   },
   "outputs": [
    {
     "data": {
      "image/png": "[encoded data removed]",
      "text/plain": [
       "plot without title"
      ]
     },
     "metadata": {
      "image/png": {
       "height": 420,
       "width": 420
      }
     },
     "output_type": "display_data"
    }
   ],
   "source": [
    "beta_longshort |>\n",
    "  group_by(year = year(month)) |>\n",
    "  summarize(\n",
    "    low = prod(1 + low),\n",
    "    high = prod(1 + high),\n",
    "    long_short = prod(1 + long_short)\n",
    "  ) |>\n",
    "  pivot_longer(cols = -year) |>\n",
    "  ggplot(aes(x = year, y = 1 - value, fill = name)) +\n",
    "  geom_col(position = \"dodge\") +\n",
    "  facet_wrap(~name, ncol = 1) +\n",
    "  theme(legend.position = \"none\") +\n",
    "  scale_y_continuous(labels = percent) +\n",
    "  labs(\n",
    "    #title = \"\",\n",
    "    x = NULL, y = NULL\n",
    "  )"
   ]
  },
  {
   "cell_type": "code",
   "execution_count": null,
   "metadata": {
    "vscode": {
     "languageId": "r"
    }
   },
   "outputs": [],
   "source": []
  },
  {
   "cell_type": "code",
   "execution_count": null,
   "metadata": {
    "vscode": {
     "languageId": "r"
    }
   },
   "outputs": [],
   "source": []
  }
 ],
 "metadata": {
  "kernelspec": {
   "display_name": "R",
   "language": "R",
   "name": "ir"
  },
  "language_info": {
   "codemirror_mode": "r",
   "file_extension": ".r",
   "mimetype": "text/x-r-source",
   "name": "R",
   "pygments_lexer": "r",
   "version": "4.2.1"
  },
  "orig_nbformat": 4
 },
 "nbformat": 4,
 "nbformat_minor": 2
}
